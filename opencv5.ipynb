{
 "cells": [
  {
   "cell_type": "code",
   "execution_count": 1,
   "id": "6bf13217",
   "metadata": {},
   "outputs": [],
   "source": [
    "import numpy as np\n",
    "import cv2\n",
    "import matplotlib.pyplot as plt "
   ]
  },
  {
   "cell_type": "code",
   "execution_count": 2,
   "id": "78698f3b",
   "metadata": {},
   "outputs": [],
   "source": [
    "ix=-1 #farenin bulunduğu noktalar\n",
    "iy=-1\n",
    "drawing=False #fareye basılı tutup aşağı çekince dikt. büyüyecek drawing true olacak\n",
    "\n",
    "\n",
    "def rectwr(event,x,y,flags,param):#fare hangi x konumunda    event: fare gerçekte ne yaptığı sağ mı sol mu çift mi tıkladı \n",
    "    global ix,iy,drawing\n",
    "    if event==cv2.EVENT_LBUTTONDOWN:\n",
    "        drawing=True\n",
    "        ix,iy=x,y  #fare o anda bulunduğu noktaya eşit olacak\n",
    "    \n",
    "    elif event==cv2.EVENT_MOUSEMOVE:\n",
    "        if drawing==True:\n",
    "            cv2.rectangle(img,(ix,iy),(x,y),(0,213,231),-1) #hatırla pt1 den pt 2 ye  dikdörtgen çiziyor\n",
    "    \n",
    "    elif event==cv2.EVENT_LBUTTONUP:\n",
    "        drawing=False\n",
    "        cv2.rectangle(img,(ix,iy),(x,y),(0,213,231),-1)\n",
    "    \n",
    "#buradan aşağısı fonksiyonu çağırma işlemi\n",
    "cv2.namedWindow(winname=\"my_draw\")\n",
    "\n",
    "cv2.setMouseCallback(\"my_draw\",rectwr)\n",
    "\n",
    "\n",
    "\n",
    "img=np.zeros((512,512,3),np.int8)\n",
    "\n",
    "while True:\n",
    "    cv2.imshow(\"my_draw\",img)\n",
    "    \n",
    "    if cv2.waitKey(20) &0xFF==27:\n",
    "        break"
   ]
  },
  {
   "cell_type": "code",
   "execution_count": null,
   "id": "84f211fd",
   "metadata": {},
   "outputs": [],
   "source": [
    "ix=-1\n",
    "iy=-1\n",
    "draw=False\n",
    "\n",
    "def callbackmouse(event,x,y,flags,param):\n",
    "    global ix,iy,draw\n",
    "    \n",
    "    if event=cv2.EVENT_LBUTTONDOWN:\n",
    "        draw=True\n",
    "        ix,iy=x,y\n",
    "        \n",
    "    elif event=cv2.EVENT_MOUSEMOVE:\n",
    "        if drawing ==True:\n",
    "            cv2.rectangle(img,(ix,iy),(x,y))"
   ]
  },
  {
   "cell_type": "code",
   "execution_count": null,
   "id": "f55eb1f0",
   "metadata": {},
   "outputs": [],
   "source": []
  },
  {
   "cell_type": "code",
   "execution_count": null,
   "id": "13812b00",
   "metadata": {},
   "outputs": [],
   "source": []
  },
  {
   "cell_type": "code",
   "execution_count": null,
   "id": "6d7c9661",
   "metadata": {},
   "outputs": [],
   "source": []
  },
  {
   "cell_type": "code",
   "execution_count": null,
   "id": "851d1808",
   "metadata": {},
   "outputs": [],
   "source": [
    "\n",
    "\n",
    "\n"
   ]
  }
 ],
 "metadata": {
  "kernelspec": {
   "display_name": "Python 3 (ipykernel)",
   "language": "python",
   "name": "python3"
  },
  "language_info": {
   "codemirror_mode": {
    "name": "ipython",
    "version": 3
   },
   "file_extension": ".py",
   "mimetype": "text/x-python",
   "name": "python",
   "nbconvert_exporter": "python",
   "pygments_lexer": "ipython3",
   "version": "3.11.4"
  }
 },
 "nbformat": 4,
 "nbformat_minor": 5
}
