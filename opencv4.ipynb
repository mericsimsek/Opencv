{
 "cells": [
  {
   "cell_type": "code",
   "execution_count": 1,
   "id": "ed9f46ba",
   "metadata": {},
   "outputs": [],
   "source": [
    "import numpy as np\n",
    "import cv2\n",
    "import matplotlib.pyplot as plt "
   ]
  },
  {
   "cell_type": "code",
   "execution_count": 3,
   "id": "36e53268",
   "metadata": {},
   "outputs": [],
   "source": [
    "\n",
    "drawing=False #fareye basılı tutup yukarı çekince True yapacaz\n",
    "\n",
    "\n",
    "def circlewr(event,x,y,flags,param):#fare hangi x konumunda    event: fare gerçekte ne yaptığı sağ mı sol mu çift mi tıkladı \n",
    "    if event==cv2.EVENT_LBUTTONDOWN:\n",
    "        cv2.circle(img, (x, y), 50, (0, 0, 242), -1)#center , radius,color,thciknes\n",
    "    elif event==cv2.EVENT_RBUTTONDOWN:\n",
    "        cv2.circle(img, (x, y), 50, (234, 123, 2), -1)\n",
    "\n",
    "#buradan aşağısı fonksiyonu çağırma işlemi\n",
    "cv2.namedWindow(winname=\"my_draw\")\n",
    "\n",
    "cv2.setMouseCallback(\"my_draw\",circlewr)\n",
    "\n",
    "\n",
    "\n",
    "img=np.zeros((512,512,3),np.int8)\n",
    "\n",
    "while True:\n",
    "    cv2.imshow(\"my_draw\",img)\n",
    "    \n",
    "    if cv2.waitKey(20) &0xFF==27:\n",
    "        break"
   ]
  },
  {
   "cell_type": "code",
   "execution_count": null,
   "id": "8855e14a",
   "metadata": {},
   "outputs": [],
   "source": []
  }
 ],
 "metadata": {
  "kernelspec": {
   "display_name": "Python 3 (ipykernel)",
   "language": "python",
   "name": "python3"
  },
  "language_info": {
   "codemirror_mode": {
    "name": "ipython",
    "version": 3
   },
   "file_extension": ".py",
   "mimetype": "text/x-python",
   "name": "python",
   "nbconvert_exporter": "python",
   "pygments_lexer": "ipython3",
   "version": "3.11.4"
  }
 },
 "nbformat": 4,
 "nbformat_minor": 5
}
